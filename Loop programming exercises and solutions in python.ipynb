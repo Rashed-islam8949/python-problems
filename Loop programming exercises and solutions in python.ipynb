{
 "cells": [
  {
   "cell_type": "markdown",
   "id": "1767f78b-57b9-4d51-81f0-d88d5fc1062a",
   "metadata": {},
   "source": [
    "## Write a python program to print all natural numbers in reverse (from n to 1). – using while loop\n"
   ]
  },
  {
   "cell_type": "code",
   "execution_count": 37,
   "id": "aefaa1af-013e-4c8c-b670-d19fccefa757",
   "metadata": {},
   "outputs": [
    {
     "name": "stdin",
     "output_type": "stream",
     "text": [
      "Input N: 6\n"
     ]
    },
    {
     "name": "stdout",
     "output_type": "stream",
     "text": [
      "6, 5, 4, 3, 2, 1, Natural numbers from 0-1 in reverse: "
     ]
    }
   ],
   "source": [
    "n=int(input('Input N:'))\n",
    "i=1\n",
    "print(f'Natural numbers from {n} to 1 in reverse: ', end='')\n",
    "while (i<=n):\n",
    "    print(n,end=\", \")\n",
    "    n-=1    "
   ]
  },
  {
   "cell_type": "code",
   "execution_count": 39,
   "id": "a9c47dcd-fcad-4bc4-9275-6b69e2ca4540",
   "metadata": {},
   "outputs": [
    {
     "name": "stdin",
     "output_type": "stream",
     "text": [
      "Input uper limit:  5\n"
     ]
    },
    {
     "name": "stdout",
     "output_type": "stream",
     "text": [
      "Natural numbers from 1 to 5: 1,2,3,4,5,"
     ]
    }
   ],
   "source": [
    "n=int(input(\"Input uper limit: \"))\n",
    "i=1\n",
    "print(f\"Natural numbers from 1 to {n}: \", end=\"\")\n",
    "while i<=n:\n",
    "  print(i, end=\",\")\n",
    "  i=i+1\n"
   ]
  },
  {
   "cell_type": "code",
   "execution_count": 4,
   "id": "e66decbd-f7ca-4dc7-bff7-29cf55700894",
   "metadata": {},
   "outputs": [
    {
     "name": "stdin",
     "output_type": "stream",
     "text": [
      "Input uper limit:  54\n"
     ]
    },
    {
     "name": "stdout",
     "output_type": "stream",
     "text": [
      "Natural numbers from 1 to 54: 54,53,52,51,50,49,48,47,46,45,44,43,42,41,40,39,38,37,36,35,34,33,32,31,30,29,28,27,26,25,24,23,22,21,20,19,18,17,16,15,14,13,12,11,10,9,8,7,6,5,4,3,2,1\n"
     ]
    }
   ],
   "source": [
    "#Write a C program to print all natural numbers in reverse (from n to 1). – using while loop\n",
    "n=int(input(\"Input uper limit: \"))\n",
    "i=1\n",
    "print(f\"Natural numbers from 1 to {n}: \", end=\"\")\n",
    "while (i<=n):\n",
    "  print(n,end=\"\")\n",
    "  if n>i:\n",
    "      print(\",\", end=\"\")\n",
    "  n -=1\n",
    "print()"
   ]
  },
  {
   "cell_type": "markdown",
   "id": "ceb19627-c71e-4960-8f5e-c77b7dcba1ee",
   "metadata": {},
   "source": [
    "## QUS 03- Write a python program to print all alphabets from a to z. – using while loop"
   ]
  },
  {
   "cell_type": "code",
   "execution_count": 55,
   "id": "7289f7fb-fac1-4a51-817c-ba351cd3ec7c",
   "metadata": {},
   "outputs": [
    {
     "name": "stdout",
     "output_type": "stream",
     "text": [
      "a b c d e f g h i j k l m n o p q r s t u v w x y z a b c d e f g h i j k l m n o p q r s t u v w x y z "
     ]
    }
   ],
   "source": [
    "ch= 'a'\n",
    "while ch <= 'z' :\n",
    "    print(ch, end=\" \")\n",
    "    ch= chr(ord(ch) +1)\n",
    "\n"
   ]
  },
  {
   "cell_type": "code",
   "execution_count": 2,
   "id": "0461a5d5-9b0e-4c2d-866c-f82b91444fbc",
   "metadata": {},
   "outputs": [
    {
     "name": "stdout",
     "output_type": "stream",
     "text": [
      "a b c d e f g h i j k l m n o p q r s t u v w x y z "
     ]
    }
   ],
   "source": [
    "# Write a python program to print all alphabets from a to z. – using while loop\n",
    "\n",
    "alphabet = ord('a') # Get the ASCII value of 'a'\n",
    "while alphabet <= ord('z'): # Loop until the ASCII value of 'z' is reached\n",
    "  print(chr(alphabet), end=\" \") # Print the character corresponding to the ASCII value\n",
    "  alphabet += 1 # Increment the ASCII value to get the next character"
   ]
  },
  {
   "cell_type": "markdown",
   "id": "fa8f996c-6711-4161-844d-6f8515bb0d18",
   "metadata": {},
   "source": [
    "## using for loop"
   ]
  },
  {
   "cell_type": "code",
   "execution_count": 17,
   "id": "af023844-32f7-49a0-8e19-cc822e7f061b",
   "metadata": {},
   "outputs": [
    {
     "name": "stdout",
     "output_type": "stream",
     "text": [
      "a b c d e f g h i j k l m n o p q r s t u v w x y z "
     ]
    }
   ],
   "source": [
    "for letter in range(ord(\"a\"),ord(\"z\")+1):\n",
    "    print(chr(letter), end=\" \")"
   ]
  },
  {
   "cell_type": "markdown",
   "id": "9077bf95-766a-4afb-836d-facc2953adc2",
   "metadata": {},
   "source": [
    "## QUS 04- Write a python program to print all even numbers between 1 to 100. – using while loop"
   ]
  },
  {
   "cell_type": "code",
   "execution_count": 22,
   "id": "351d3183-e0fe-41b0-bb39-34fad9052d36",
   "metadata": {},
   "outputs": [
    {
     "name": "stdout",
     "output_type": "stream",
     "text": [
      "Even numbers between 1 to 100 :2,4,6,8,10,12,14,16,18,20,22,24,26,28,30,32,34,36,38,40,42,44,46,48,50,52,54,56,58,60,62,64,66,68,70,72,74,76,78,80,82,84,86,88,90,92,94,96,98,100"
     ]
    }
   ],
   "source": [
    "n=100\n",
    "i=1\n",
    "print(\"Even numbers between 1 to 100 :\",end=\"\")\n",
    "while (i<=n):\n",
    "    if i%2==0 :\n",
    "        print(i,end=\"\")\n",
    "        if (i<n):\n",
    "            print(\",\",end=\"\")\n",
    "    i=i+1\n",
    "    "
   ]
  },
  {
   "cell_type": "markdown",
   "id": "a4729988-107c-41e7-8934-51941d079ed1",
   "metadata": {},
   "source": [
    "## QUS 05- Write a python program to print all odd number between 1 to 100."
   ]
  },
  {
   "cell_type": "code",
   "execution_count": 27,
   "id": "2ffead5c-8e0e-4dd4-98e2-e0a901f00c4a",
   "metadata": {},
   "outputs": [
    {
     "name": "stdout",
     "output_type": "stream",
     "text": [
      "Odd number between 1 ton 100: 1,3,5,7,9,11,13,15,17,19,21,23,25,27,29,31,33,35,37,39,41,43,45,47,49,51,53,55,57,59,61,63,65,67,69,71,73,75,77,79,81,83,85,87,89,91,93,95,97,99"
     ]
    }
   ],
   "source": [
    "n=100\n",
    "i=1\n",
    "print('Odd number between 1 ton 100: ',end='')\n",
    "while i<=n :\n",
    "    if i%2==1:\n",
    "        print(i,end=\"\")\n",
    "        if i<99:\n",
    "            print(',',end=\"\")\n",
    "    i=i+1"
   ]
  },
  {
   "cell_type": "markdown",
   "id": "0c78596b-98c1-48c1-97d4-96dc5ac0b993",
   "metadata": {},
   "source": [
    "## QUS 06- Write a Python program to find sum of all natural numbers between 1 to n."
   ]
  },
  {
   "cell_type": "code",
   "execution_count": 38,
   "id": "b5324dab-8b84-4fec-8f14-0bb3bc71eeb3",
   "metadata": {},
   "outputs": [
    {
     "name": "stdin",
     "output_type": "stream",
     "text": [
      "input upprt limit:  5\n"
     ]
    },
    {
     "name": "stdout",
     "output_type": "stream",
     "text": [
      "Sum of the natural number 1 to 5: 15"
     ]
    }
   ],
   "source": [
    "n=int(input(\"input upprt limit: \"))\n",
    "i=1\n",
    "s=0\n",
    "print(f'Sum of the natural number 1 to {n}: ',end='')\n",
    "while i<=n:\n",
    "    s= s+i\n",
    "    i=i+1\n",
    "print(s,end='')"
   ]
  },
  {
   "cell_type": "markdown",
   "id": "64609d8e-451b-4a8f-b356-826e9635449c",
   "metadata": {},
   "source": [
    "## QUS 07- Write a Python program to find sum of all even numbers between 1 to n."
   ]
  },
  {
   "cell_type": "code",
   "execution_count": 53,
   "id": "ad873b02-ec00-4502-8220-240e817894a6",
   "metadata": {},
   "outputs": [
    {
     "name": "stdin",
     "output_type": "stream",
     "text": [
      "Input upper limit of even number: 11\n"
     ]
    },
    {
     "name": "stdout",
     "output_type": "stream",
     "text": [
      "Sum of even numbers between 1 to 11: 30\n"
     ]
    }
   ],
   "source": [
    "n=int(input(\"Input upper limit of even number:\"))\n",
    "i=1\n",
    "s=0\n",
    "while i<=n :\n",
    "    if i%2==0 :\n",
    "        s= s+i\n",
    "    i=i+1\n",
    "print(f'Sum of even numbers between 1 to {n}:',s)\n",
    "            "
   ]
  },
  {
   "cell_type": "markdown",
   "id": "fa2c849f-8a67-4d37-ae38-3ab299d76102",
   "metadata": {},
   "source": [
    "## Using for loop"
   ]
  },
  {
   "cell_type": "code",
   "execution_count": 70,
   "id": "7b7bed6a-d096-467d-b302-75da0f317e2b",
   "metadata": {},
   "outputs": [
    {
     "name": "stdin",
     "output_type": "stream",
     "text": [
      "Input upper limit of even number: 10\n"
     ]
    },
    {
     "name": "stdout",
     "output_type": "stream",
     "text": [
      "Sum of even numbers between 1 to 10: 30\n"
     ]
    }
   ],
   "source": [
    "n=int(input(\"Input upper limit of even number:\"))\n",
    "s=0\n",
    "for i in range(1,n+1,1):\n",
    "  if i%2==0:\n",
    "      s=s+i\n",
    "print(f'Sum of even numbers between 1 to {n}:',s)\n"
   ]
  },
  {
   "cell_type": "markdown",
   "id": "9c771bc4-29f8-497f-9995-cef8aaa86dc4",
   "metadata": {},
   "source": [
    "## QUS 08-Write a Python program to find sum of all odd numbers between 1 to n."
   ]
  },
  {
   "cell_type": "code",
   "execution_count": 75,
   "id": "0949910e-f72a-43a9-9ac2-9e78dc278e20",
   "metadata": {},
   "outputs": [
    {
     "name": "stdin",
     "output_type": "stream",
     "text": [
      "Input upper limit of odd number: 10\n"
     ]
    },
    {
     "name": "stdout",
     "output_type": "stream",
     "text": [
      "Sum of odd numbers between 1 to 10: 25\n"
     ]
    }
   ],
   "source": [
    "n=int(input(\"Input upper limit of odd number:\"))\n",
    "i=1\n",
    "s=0\n",
    "while i<=n :\n",
    "    if i%2==1 :\n",
    "        s= s+i\n",
    "    i=i+1\n",
    "print(f'Sum of odd numbers between 1 to {n}:',s)"
   ]
  },
  {
   "cell_type": "code",
   "execution_count": 77,
   "id": "fef315ff-e7f7-480a-a966-b63f159cde16",
   "metadata": {},
   "outputs": [
    {
     "name": "stdin",
     "output_type": "stream",
     "text": [
      "Input upper limit of even number: 10\n"
     ]
    },
    {
     "name": "stdout",
     "output_type": "stream",
     "text": [
      "Sum of even numbers between 1 to 10: 25\n"
     ]
    }
   ],
   "source": [
    "# using for loop\n",
    "n=int(input(\"Input upper limit of even number:\"))\n",
    "s=0\n",
    "for i in range(1,n+1,1):\n",
    "  if i%2==1:\n",
    "      s=s+i\n",
    "print(f'Sum of even numbers between 1 to {n}:',s)"
   ]
  },
  {
   "cell_type": "markdown",
   "id": "d8debeb9-de90-48be-b63b-8f184ea23e90",
   "metadata": {},
   "source": [
    "## QUS 09- Write a python program to print multiplication table of any number."
   ]
  },
  {
   "cell_type": "code",
   "execution_count": 80,
   "id": "50632358-bbcb-40fa-84df-efd56d91d8e8",
   "metadata": {},
   "outputs": [
    {
     "name": "stdin",
     "output_type": "stream",
     "text": [
      "Input number:  5\n"
     ]
    },
    {
     "name": "stdout",
     "output_type": "stream",
     "text": [
      "5*1=5\n",
      "5*2=10\n",
      "5*3=15\n",
      "5*4=20\n",
      "5*5=25\n",
      "5*6=30\n",
      "5*7=35\n",
      "5*8=40\n",
      "5*9=45\n",
      "5*10=50\n"
     ]
    }
   ],
   "source": [
    "n= int(input(\"Input number: \"))\n",
    "i=1\n",
    "while i<=10 :\n",
    "    m=n*i\n",
    "    print(f'{n}*{i}={m}')\n",
    "    i=i+1"
   ]
  },
  {
   "cell_type": "code",
   "execution_count": 84,
   "id": "79d9c212-067b-40fe-815f-0b88885a2cf3",
   "metadata": {},
   "outputs": [
    {
     "name": "stdin",
     "output_type": "stream",
     "text": [
      "Input number:  5\n"
     ]
    },
    {
     "name": "stdout",
     "output_type": "stream",
     "text": [
      "5*1=5\n",
      "5*2=10\n",
      "5*3=15\n",
      "5*4=20\n",
      "5*5=25\n",
      "5*6=30\n",
      "5*7=35\n",
      "5*8=40\n",
      "5*9=45\n"
     ]
    }
   ],
   "source": [
    "# using for loop\n",
    "n= int(input(\"Input number: \"))\n",
    "for i in range(1,10,1):\n",
    "    m=n*i\n",
    "    print(f'{n}*{i}={m}')"
   ]
  },
  {
   "cell_type": "markdown",
   "id": "98c99ebf-0274-4837-872d-5c38b0819630",
   "metadata": {},
   "source": [
    "# QUS 10- Write a Python program to count number of digits in a number."
   ]
  },
  {
   "cell_type": "code",
   "execution_count": 141,
   "id": "dcaa9add-d430-4531-b157-502d08a19d1a",
   "metadata": {},
   "outputs": [
    {
     "name": "stdin",
     "output_type": "stream",
     "text": [
      "Input number:  -9876\n"
     ]
    },
    {
     "name": "stdout",
     "output_type": "stream",
     "text": [
      "Number of digit:4\n"
     ]
    }
   ],
   "source": [
    "num=int(input('Input number: '))\n",
    "count=0\n",
    "num=abs(num)\n",
    "while num>0:\n",
    "    num//= 10\n",
    "    count= count+1\n",
    "        \n",
    "print(f\"Number of digit:{count}\")\n",
    "    "
   ]
  },
  {
   "cell_type": "code",
   "execution_count": 163,
   "id": "9dc69709-4102-441b-a774-02f30e151fb7",
   "metadata": {},
   "outputs": [
    {
     "name": "stdin",
     "output_type": "stream",
     "text": [
      "Input number:  56\n"
     ]
    },
    {
     "name": "stdout",
     "output_type": "stream",
     "text": [
      "Number of digit:2\n"
     ]
    }
   ],
   "source": [
    "num=input('Input number: ')\n",
    "count=0\n",
    "\n",
    "for digit in num:\n",
    "    if digit.isdigit():\n",
    "        count += 1\n",
    "print(f\"Number of digit:{count}\")"
   ]
  },
  {
   "cell_type": "markdown",
   "id": "ba268bb6-086d-4dfc-a203-86462694f3fd",
   "metadata": {},
   "source": [
    "## QUS 11- Write a Python program to find first and last digit of a number."
   ]
  },
  {
   "cell_type": "code",
   "execution_count": 7,
   "id": "047a11b1-adf8-4d32-8ba9-af57b7c35104",
   "metadata": {},
   "outputs": [
    {
     "name": "stdin",
     "output_type": "stream",
     "text": [
      "Input number 34567\n"
     ]
    },
    {
     "name": "stdout",
     "output_type": "stream",
     "text": [
      "First digit: 3\n",
      "Last digit: 7\n"
     ]
    }
   ],
   "source": [
    "num=int(input(\"Input number\"))\n",
    "last_digit=num%10\n",
    "fast_digit=num\n",
    "while fast_digit >=10:\n",
    "    fast_digit//=10\n",
    "print(f\"First digit: {fast_digit}\")\n",
    "print(\"Last digit:\",last_digit)"
   ]
  },
  {
   "cell_type": "markdown",
   "id": "3376bf59-2cee-4f19-9d23-d386fd4c0dc5",
   "metadata": {},
   "source": [
    "# QUS 12-Write a Python program to find sum of first and last digit of a number."
   ]
  },
  {
   "cell_type": "code",
   "execution_count": 12,
   "id": "b5fe6365-5a20-4b9e-9804-c52ba2cd4720",
   "metadata": {},
   "outputs": [
    {
     "name": "stdin",
     "output_type": "stream",
     "text": [
      "Input number 1234\n"
     ]
    },
    {
     "name": "stdout",
     "output_type": "stream",
     "text": [
      "Sum of first and last digit: 5\n"
     ]
    }
   ],
   "source": [
    "num=int(input(\"Input number\"))\n",
    "last_digit=num%10\n",
    "fast_digit=num\n",
    "while fast_digit >=10:\n",
    "    fast_digit//=10\n",
    "sum=fast_digit+last_digit\n",
    "print(f\"Sum of first and last digit: {sum}\")\n"
   ]
  },
  {
   "cell_type": "markdown",
   "id": "2f7f0a1a-8a2c-4e75-a0ca-e7385b253d36",
   "metadata": {},
   "source": [
    "# QUS 13-Write a Python program to swap first and last digits of a number."
   ]
  },
  {
   "cell_type": "code",
   "execution_count": 14,
   "id": "a0e16d9e-4f5d-48f7-a26b-f7ca4c8fc6bc",
   "metadata": {},
   "outputs": [
    {
     "name": "stdin",
     "output_type": "stream",
     "text": [
      "Input number 12345\n"
     ]
    },
    {
     "name": "stdout",
     "output_type": "stream",
     "text": [
      "Number after swapping first and last digits:  52341\n"
     ]
    }
   ],
   "source": [
    "num=int(input(\"Input number\"))\n",
    "n=num\n",
    "count= 0\n",
    "while n>0:\n",
    "    n//=10\n",
    "    count +=1\n",
    "last_digit= num%10\n",
    "first_digit = num // (10**(count - 1))\n",
    "middle = (num % (10**(count-1)))//10\n",
    "swapped_num = (last_digit * (10** (count-1)))+(middle * 10)+ first_digit\n",
    "print(\"Number after swapping first and last digits: \", swapped_num)"
   ]
  },
  {
   "cell_type": "markdown",
   "id": "d1acefb6-5f08-405b-bb3b-8a9944f53e0f",
   "metadata": {},
   "source": [
    "## QUS 14-Write a python program to calculate sum of digits of a number."
   ]
  },
  {
   "cell_type": "code",
   "execution_count": 4,
   "id": "d936f44e-b60c-4ca5-a32b-e48c3bec3d28",
   "metadata": {},
   "outputs": [
    {
     "name": "stdin",
     "output_type": "stream",
     "text": [
      "Enter a number:  1234\n"
     ]
    },
    {
     "name": "stdout",
     "output_type": "stream",
     "text": [
      "The sum of the digits is: 10\n"
     ]
    }
   ],
   "source": [
    "# Write a python program to calculate sum of digits of a number.\n",
    "\n",
    "num = int(input(\"Enter a number: \"))\n",
    "sum_digits = 0\n",
    "\n",
    "# Use a while loop to extract and sum the digits\n",
    "while num > 0:\n",
    "  digit = num % 10  # Get the last digit\n",
    "  sum_digits += digit  # Add the digit to the sum\n",
    "  num //= 10  # Remove the last digit from the number\n",
    "\n",
    "print(f\"The sum of the digits is: {sum_digits}\")"
   ]
  },
  {
   "cell_type": "markdown",
   "id": "ee4409bf-b70d-4390-bd6d-a15ee21b5738",
   "metadata": {},
   "source": [
    "## QUS 15- Write a Python program to calculate product of digits of a number."
   ]
  },
  {
   "cell_type": "code",
   "execution_count": 17,
   "id": "cfd476c0-9553-4d66-9b46-d938344594e6",
   "metadata": {},
   "outputs": [
    {
     "name": "stdin",
     "output_type": "stream",
     "text": [
      "Enter a number:  23\n"
     ]
    },
    {
     "name": "stdout",
     "output_type": "stream",
     "text": [
      "The product of the digits is: 6\n"
     ]
    }
   ],
   "source": [
    "# Write a python program to calculate product of digits of a number.\n",
    "\n",
    "num = int(input(\"Enter a number: \"))\n",
    "product_digits = 1\n",
    "\n",
    "# Use a while loop to extract and multiply the digits\n",
    "while num > 0:\n",
    "  digit = num % 10  # Get the last digit\n",
    "  product_digits *= digit  # Multiply the product by the digit\n",
    "  num //= 10  # Remove the last digit from the number\n",
    "\n",
    "print(f\"The product of the digits is: {product_digits}\")\n"
   ]
  },
  {
   "cell_type": "markdown",
   "id": "243f8dbd-d928-4f3d-a5fb-581f6769aae3",
   "metadata": {},
   "source": [
    "## QUS 16- Write a Python program to enter a number and print its reverse."
   ]
  },
  {
   "cell_type": "code",
   "execution_count": 20,
   "id": "ad3c568d-ef4d-400b-86df-7f09a965e057",
   "metadata": {},
   "outputs": [
    {
     "name": "stdin",
     "output_type": "stream",
     "text": [
      "Enter a number:  12345\n"
     ]
    },
    {
     "name": "stdout",
     "output_type": "stream",
     "text": [
      "Reversed number: 54321\n"
     ]
    }
   ],
   "source": [
    "# Get input from the user\n",
    "number = input(\"Enter a number: \")\n",
    "\n",
    "# Reverse the number using string slicing\n",
    "reversed_number = number[::-1]\n",
    "\n",
    "# Print the reversed number\n",
    "print(\"Reversed number:\", reversed_number)"
   ]
  },
  {
   "cell_type": "code",
   "execution_count": 28,
   "id": "f6b11b0a-95a9-4509-9dd4-c703c55e25aa",
   "metadata": {},
   "outputs": [
    {
     "name": "stdin",
     "output_type": "stream",
     "text": [
      "Enter a number:  123\n"
     ]
    },
    {
     "name": "stdout",
     "output_type": "stream",
     "text": [
      "The reversed number is: 321\n"
     ]
    }
   ],
   "source": [
    "# Write a Python program to enter a number and print its reverse while loop.\n",
    "\n",
    "num = int(input(\"Enter a number: \"))\n",
    "reversed_num = 0\n",
    "\n",
    "# Use a while loop to reverse the number\n",
    "while num > 0:\n",
    "  digit = num % 10  # Get the last digit\n",
    "  reversed_num = (reversed_num * 10) + digit  # Add the digit to the reversed number\n",
    "  num //= 10  # Remove the last digit from the number\n",
    "\n",
    "print(f\"The reversed number is: {reversed_num}\")"
   ]
  },
  {
   "cell_type": "code",
   "execution_count": 26,
   "id": "04e0edaf-33ff-4c9c-b7af-92bb0d27c5a6",
   "metadata": {},
   "outputs": [
    {
     "name": "stdin",
     "output_type": "stream",
     "text": [
      "Enter a number:  12345\n"
     ]
    },
    {
     "name": "stdout",
     "output_type": "stream",
     "text": [
      "Reversed number: 54321\n"
     ]
    }
   ],
   "source": [
    "# using for loop\n",
    "# Get input from the user\n",
    "number = input(\"Enter a number: \")\n",
    "\n",
    "# Initialize an empty string for the reversed number\n",
    "reversed_number = \"\"\n",
    "\n",
    "# Use a for loop to iterate through each digit in reverse order\n",
    "for digit in range(len(number)-1, -1, -1):\n",
    "    reversed_number += number[digit]\n",
    "\n",
    "# Print the reversed number\n",
    "print(\"Reversed number:\", reversed_number)"
   ]
  },
  {
   "cell_type": "markdown",
   "id": "d2b72837-e723-49d9-bf49-0fd1df4a6810",
   "metadata": {},
   "source": [
    "## QUS 17- Write a Python program to check whether a number is palindrome or not."
   ]
  },
  {
   "cell_type": "code",
   "execution_count": 35,
   "id": "e49d830e-950b-47ad-9f3e-33ccda564e5b",
   "metadata": {},
   "outputs": [
    {
     "name": "stdin",
     "output_type": "stream",
     "text": [
      "input number: 1212121\n"
     ]
    },
    {
     "name": "stdout",
     "output_type": "stream",
     "text": [
      "1212121 is palindrome\n"
     ]
    }
   ],
   "source": [
    "num=input(\"input number:\")\n",
    "reverse_num=num[::-1]\n",
    "if reverse_num ==num:\n",
    "    print(f'{num} is palindrome')\n",
    "else:\n",
    "    print(f'{num} is not a palindrome')\n",
    "\n",
    "          "
   ]
  },
  {
   "cell_type": "markdown",
   "id": "e74b50ce-278c-47e4-8684-1ced46cdc799",
   "metadata": {},
   "source": [
    "### Using while loop"
   ]
  },
  {
   "cell_type": "code",
   "execution_count": 37,
   "id": "82e0b35a-7dd2-4d61-bcf7-0e0f07d16c16",
   "metadata": {},
   "outputs": [
    {
     "name": "stdin",
     "output_type": "stream",
     "text": [
      "Enter a number:  1234\n"
     ]
    },
    {
     "name": "stdout",
     "output_type": "stream",
     "text": [
      "0 is not a palindrome number.\n"
     ]
    }
   ],
   "source": [
    "# Write a Python program to check whether a number is palindrome or not.\n",
    "\n",
    "num = int(input(\"Enter a number: \"))\n",
    "reversed_num = 0\n",
    "\n",
    "# Reverse the number\n",
    "while num > 0:\n",
    "  digit = num % 10\n",
    "  reversed_num = (reversed_num * 10) + digit\n",
    "  num //= 10\n",
    "\n",
    "# Check if the original number is equal to the reversed number\n",
    "if num == reversed_num:\n",
    "  print(f\"{num} is a palindrome number.\")\n",
    "else:\n",
    "  print(f\"{num} is not a palindrome number.\")"
   ]
  },
  {
   "cell_type": "markdown",
   "id": "0332eadb-3f08-4ad3-899a-e2e04bbe5593",
   "metadata": {},
   "source": [
    "## QUS 18-Write a python program to find frequency of each digit in a given integer."
   ]
  },
  {
   "cell_type": "code",
   "execution_count": 29,
   "id": "1de10043-5bf7-46dd-b54c-870358636a9e",
   "metadata": {},
   "outputs": [
    {
     "name": "stdin",
     "output_type": "stream",
     "text": [
      "Enter an integer:  00000101\n"
     ]
    },
    {
     "name": "stdout",
     "output_type": "stream",
     "text": [
      "Digit frequencies:\n",
      "Digit 0: 1 times\n",
      "Digit 1: 2 times\n"
     ]
    }
   ],
   "source": [
    "#using for loop\n",
    "def find_digit_frequency(number):\n",
    "    number = int(input(\"Enter an integer: \"))\n",
    "    # Convert the number to a string to iterate through its digits\n",
    "    num_str = str(abs(number))\n",
    "    \n",
    "    # Create a dictionary to store the frequency of each digit\n",
    "    frequency = {}\n",
    "    \n",
    "    # Count the frequency of each digit\n",
    "    for digit in num_str:\n",
    "        if digit in frequency:\n",
    "            frequency[digit] += 1\n",
    "        else:\n",
    "            frequency[digit] = 1\n",
    "    \n",
    "    return frequency\n",
    "\n",
    "# Example usage\n",
    "result = find_digit_frequency(number)\n",
    "\n",
    "print(\"Digit frequencies:\")\n",
    "for digit, count in sorted(result.items()):\n",
    "    print(f\"Digit {digit}: {count} times\")"
   ]
  },
  {
   "cell_type": "code",
   "execution_count": 27,
   "id": "2c301ab7-33bf-4feb-af0b-86b7fe62d475",
   "metadata": {},
   "outputs": [
    {
     "name": "stdin",
     "output_type": "stream",
     "text": [
      "Enter a number:  01010\n"
     ]
    },
    {
     "name": "stdout",
     "output_type": "stream",
     "text": [
      "Frequency of each digit in 1010:\n",
      "Digit 0: 2\n",
      "Digit 1: 2\n"
     ]
    }
   ],
   "source": [
    "# using while looop\n",
    "# Write a python program to find frequency of each digit in a given integer.\n",
    "\n",
    "num = int(input(\"Enter a number: \"))\n",
    "temp = abs(num)\n",
    "digit_counts = {}\n",
    "\n",
    "# Use a while loop to count \n",
    "# Special case for 0\n",
    "if num == 0:\n",
    "    digit_counts[0] = 1\n",
    "while temp > 0:\n",
    "    digit = temp % 10\n",
    "    if digit in digit_counts:\n",
    "        digit_counts[digit] += 1\n",
    "    else:\n",
    "        digit_counts[digit] = 1\n",
    "    temp //= 10\n",
    "\n",
    "print(f\"Frequency of each digit in {num}:\")\n",
    "for digit, count in digit_counts.items():\n",
    "    print(f\"Digit {digit}: {count}\")"
   ]
  },
  {
   "cell_type": "code",
   "execution_count": 41,
   "id": "c5fb055c-2f84-4dc7-8bb3-d1abb502ad92",
   "metadata": {},
   "outputs": [
    {
     "name": "stdin",
     "output_type": "stream",
     "text": [
      "Enter a number:  64536\n"
     ]
    },
    {
     "name": "stdout",
     "output_type": "stream",
     "text": [
      "Frequency of each digit in 64536:\n",
      "Digit 3: 1\n",
      "Digit 4: 1\n",
      "Digit 5: 1\n",
      "Digit 6: 2\n"
     ]
    }
   ],
   "source": [
    "#using for loop (count 0)\n",
    "num = input(\"Enter a number: \")  # Get input as string to preserve leading zeros\n",
    "digit_counts = {}\n",
    "\n",
    "# Count frequency of each digit\n",
    "for digit in num:\n",
    "    if digit == '-':  # Skip negative sign\n",
    "        continue\n",
    "    digit = int(digit)  # Convert character to integer\n",
    "    if digit in digit_counts:\n",
    "        digit_counts[digit] += 1\n",
    "    else:\n",
    "        digit_counts[digit] = 1\n",
    "\n",
    "print(f\"Frequency of each digit in {num}:\")\n",
    "for digit, count in sorted(digit_counts.items()):\n",
    "    print(f\"Digit {digit}: {count}\")"
   ]
  },
  {
   "cell_type": "markdown",
   "id": "c185f3ce-bd72-4361-8ef0-a78033a4ffd1",
   "metadata": {},
   "source": [
    "## বাংলা ব্যাখ্যা (Explanation in Bangla):\n",
    "\n",
    "এই নতুন কোডে আমি একটি ভিন্ন পদ্ধতি ব্যবহার করেছি:\n",
    "\n",
    "১. **স্ট্রিং হিসেবে ইনপুট নেওয়া**: আমরা সংখ্যাকে স্ট্রিং হিসেবে ইনপুট নিচ্ছি, যাতে শুরুতে থাকা 0 গুলোও সংরক্ষিত থাকে।\n",
    "\n",
    "২. **প্রতিটি অক্ষর পরীক্ষা**: আমরা for লুপ ব্যবহার করে স্ট্রিং-এর প্রতিটি অক্ষর পরীক্ষা করছি।\n",
    "\n",
    "৩. **ঋণাত্মক চিহ্ন এড়িয়ে যাওয়া**: যদি অক্ষরটি '-' হয় (ঋণাত্মক সংখ্যার জন্য), তাহলে আমরা এটি এড়িয়ে যাই।\n",
    "\n",
    "৪. **অঙ্ক গণনা**: প্রতিটি অক্ষরকে সংখ্যায় রূপান্তর করে আমরা ডিকশনারিতে তার ফ্রিকোয়েন্সি বাড়াই।\n",
    "\n",
    "এই পদ্ধতির সুবিধা হল:\n",
    "- এটি সংখ্যার সব অবস্থানে থাকা 0 গুলো সঠিকভাবে গণনা করে\n",
    "- শুরুতে থাকা 0 গুলোও গণনা করা হয় (যেমন \"0123\" এ প্রথম 0)\n",
    "- ঋণাত্মক সংখ্যাও সঠিকভাবে হ্যান্ডেল করা হয়\n",
    "\n",
    "উদাহরণস্বরূপ:\n",
    "- যদি ইনপুট হয় `1001`, আউটপুট হবে: \"Digit 0: 2, Digit 1: 2\"\n",
    "- যদি ইনপুট হয় `0123`, আউটপুট হবে: \"Digit 0: 1, Digit 1: 1, Digit 2: 1, Digit 3: 1\"\n",
    "- যদি ইনপুট হয় `-101`, আউটপুট হবে: \"Digit 0: 1, Digit 1: 2\"\n",
    "\n",
    "এই কোডটি সব ধরনের সংখ্যার জন্য সঠিকভাবে কাজ করবে এবং সব অবস্থানে থাকা 0 গুলো সঠিকভাবে গণনা করবে।"
   ]
  },
  {
   "cell_type": "code",
   "execution_count": 49,
   "id": "f5302a0a-f3e2-4774-89a3-e05bbab93feb",
   "metadata": {},
   "outputs": [
    {
     "name": "stdin",
     "output_type": "stream",
     "text": [
      "Enter a number:  00455\n"
     ]
    },
    {
     "name": "stdout",
     "output_type": "stream",
     "text": [
      "Frequency of each digit in 00455:\n",
      "Digit 0: 2\n",
      "Digit 4: 1\n",
      "Digit 5: 2\n"
     ]
    }
   ],
   "source": [
    "# using while loop\n",
    "num = input(\"Enter a number: \")  # Get input as string to preserve all digits\n",
    "digit_counts = {}\n",
    "\n",
    "# Use while loop to count the frequency of each digit\n",
    "i = 0\n",
    "while i < len(num):\n",
    "    if num[i] == '-':  # Skip negative sign\n",
    "        i += 1\n",
    "        continue\n",
    "    \n",
    "    digit = int(num[i])  # Convert character to integer\n",
    "    if digit in digit_counts:\n",
    "        digit_counts[digit] += 1\n",
    "    else:\n",
    "        digit_counts[digit] = 1\n",
    "    i += 1\n",
    "\n",
    "print(f\"Frequency of each digit in {num}:\")\n",
    "for digit, count in sorted(digit_counts.items()):\n",
    "    print(f\"Digit {digit}: {count}\")"
   ]
  },
  {
   "cell_type": "markdown",
   "id": "e71091ef-a1f2-4667-96b9-ef48e397af0e",
   "metadata": {},
   "source": [
    "## বাংলা ব্যাখ্যা (Explanation in Bangla):\n",
    "\n",
    "এই কোডে আমি while লুপ ব্যবহার করে সমস্যাটি সমাধান করেছি:\n",
    "\n",
    "১. **স্ট্রিং হিসেবে ইনপুট নেওয়া**: আমরা সংখ্যাকে স্ট্রিং হিসেবে ইনপুট নিচ্ছি, যাতে সব অঙ্ক (শুরু, মাঝে বা শেষে থাকা 0 সহ) সংরক্ষিত থাকে।\n",
    "\n",
    "২. **while লুপ ব্যবহার**: আমরা একটি কাউন্টার `i` ব্যবহার করে স্ট্রিং-এর প্রতিটি অক্ষর পর্যালোচনা করছি। লুপটি তখন পর্যন্ত চলবে যতক্ষণ না `i` স্ট্রিং-এর দৈর্ঘ্য অতিক্রম করে।\n",
    "\n",
    "৩. **ঋণাত্মক চিহ্ন এড়িয়ে যাওয়া**: যদি অক্ষরটি '-' হয় (ঋণাত্মক সংখ্যার জন্য), তাহলে আমরা এটি এড়িয়ে যাই।\n",
    "\n",
    "৪. **অঙ্ক গণনা**: প্রতিটি অক্ষরকে সংখ্যায় রূপান্তর করে আমরা ডিকশনারিতে তার ফ্রিকোয়েন্সি বাড়াই।\n",
    "\n",
    "৫. **কাউন্টার বৃদ্ধি**: প্রতিটি ইটারেশনের শেষে আমরা `i` এর মান 1 বাড়াই।\n",
    "\n",
    "এই পদ্ধতির সুবিধা হল:\n",
    "- এটি while লুপ ব্যবহার করে, যা আপনার প্রয়োজন অনুযায়ী\n",
    "- সংখ্যার সব অবস্থানে থাকা 0 গুলো সঠিকভাবে গণনা করে\n",
    "- শুরুতে থাকা 0 গুলোও গণনা করা হয় (যেমন \"0123\" এ প্রথম 0)\n",
    "- ঋণাত্মক সংখ্যাও সঠিকভাবে হ্যান্ডেল করা হয়\n",
    "\n",
    "উদাহরণস্বরূপ:\n",
    "- যদি ইনপুট হয় `1001`, আউটপুট হবে: \"Digit 0: 2, Digit 1: 2\"\n",
    "- যদি ইনপুট হয় `0123`, আউটপুট হবে: \"Digit 0: 1, Digit 1: 1, Digit 2: 1, Digit 3: 1\"\n",
    "- যদি ইনপুট হয় `-101`, আউটপুট হবে: \"Digit 0: 1, Digit 1: 2\"\n",
    "\n",
    "এই কোডটি while লুপ ব্যবহার করে সব ধরনের সংখ্যার জন্য সঠিকভাবে কাজ করবে এবং সব অবস্থানে থাকা 0 গুলো সঠিকভাবে গণনা করবে।"
   ]
  },
  {
   "cell_type": "markdown",
   "id": "f1105919-4f29-47ef-b0b6-5bb136daea0e",
   "metadata": {},
   "source": [
    "# QUS 19-Write a PYTHON program to enter a number and print it in words."
   ]
  },
  {
   "cell_type": "code",
   "execution_count": 54,
   "id": "22fe0937-7f44-4eef-82ce-c3462d4ec875",
   "metadata": {},
   "outputs": [
    {
     "name": "stdin",
     "output_type": "stream",
     "text": [
      "Enter a number:  34897536845\n"
     ]
    },
    {
     "name": "stdout",
     "output_type": "stream",
     "text": [
      "In words: Thirty Four Billion Eight Hundred Ninety Seven Million Five Hundred Thirty Six Thousand Eight Hundred Forty Five\n"
     ]
    }
   ],
   "source": [
    "def number_to_words(num):\n",
    "    # Dictionary for numbers 0-19\n",
    "    ones = {\n",
    "        0: 'Zero', 1: 'One', 2: 'Two', 3: 'Three', 4: 'Four', \n",
    "        5: 'Five', 6: 'Six', 7: 'Seven', 8: 'Eight', 9: 'Nine',\n",
    "        10: 'Ten', 11: 'Eleven', 12: 'Twelve', 13: 'Thirteen', 14: 'Fourteen',\n",
    "        15: 'Fifteen', 16: 'Sixteen', 17: 'Seventeen', 18: 'Eighteen', 19: 'Nineteen'\n",
    "    }\n",
    "    \n",
    "    # Dictionary for tens place (20-90)\n",
    "    tens = {\n",
    "        2: 'Twenty', 3: 'Thirty', 4: 'Forty', 5: 'Fifty',\n",
    "        6: 'Sixty', 7: 'Seventy', 8: 'Eighty', 9: 'Ninety'\n",
    "    }\n",
    "    \n",
    "    # For numbers beyond 999, we'll limit to billions for simplicity\n",
    "    scales = ['', 'Thousand', 'Million', 'Billion']\n",
    "    \n",
    "    # Special case for zero\n",
    "    if num == 0:\n",
    "        return ones[0]\n",
    "    \n",
    "    # For negative numbers\n",
    "    if num < 0:\n",
    "        return \"Negative \" + number_to_words(abs(num))\n",
    "    \n",
    "    words = \"\"\n",
    "    \n",
    "    # Process the number in groups of 3 digits\n",
    "    scale_index = 0\n",
    "    while num > 0:\n",
    "        # Extract the last 3 digits\n",
    "        group = num % 1000\n",
    "        \n",
    "        if group != 0:\n",
    "            group_words = \"\"\n",
    "            \n",
    "            # Process hundreds place\n",
    "            if group // 100 > 0:\n",
    "                group_words += ones[group // 100] + \" Hundred \"\n",
    "                group %= 100\n",
    "            \n",
    "            # Process tens and ones place\n",
    "            if group > 0:\n",
    "                # For numbers 1-19\n",
    "                if group < 20:\n",
    "                    group_words += ones[group]\n",
    "                else:\n",
    "                    # For numbers 20-99\n",
    "                    group_words += tens[group // 10]\n",
    "                    if group % 10 > 0:\n",
    "                        group_words += \" \" + ones[group % 10]\n",
    "            \n",
    "            # Add the scale (thousand, million, etc.)\n",
    "            if scale_index > 0:\n",
    "                group_words += \" \" + scales[scale_index]\n",
    "            \n",
    "            # Add to the final result\n",
    "            words = group_words + \" \" + words\n",
    "        \n",
    "        # Move to the next group of 3 digits\n",
    "        num //= 1000\n",
    "        scale_index += 1\n",
    "    \n",
    "    return words.strip()\n",
    "\n",
    "# Get input from user\n",
    "try:\n",
    "    number = int(input(\"Enter a number: \"))\n",
    "    result = number_to_words(number)\n",
    "    print(f\"In words: {result}\")\n",
    "except ValueError:\n",
    "    print(\"Please enter a valid integer.\")"
   ]
  },
  {
   "cell_type": "code",
   "execution_count": 80,
   "id": "83d9052e-3f41-4545-a1c6-1106aa24509d",
   "metadata": {},
   "outputs": [
    {
     "name": "stdin",
     "output_type": "stream",
     "text": [
      "Enter a number:  -757456\n"
     ]
    },
    {
     "name": "stdout",
     "output_type": "stream",
     "text": [
      "Negative Seven Five Seven Four Five Six\n"
     ]
    }
   ],
   "source": [
    "def digit_to_word(digit):\n",
    "    \"\"\"Convert a single digit to its word representation.\"\"\"\n",
    "    words = {\n",
    "        '0': 'Zero',\n",
    "        '1': 'One',\n",
    "        '2': 'Two',\n",
    "        '3': 'Three',\n",
    "        '4': 'Four',\n",
    "        '5': 'Five',\n",
    "        '6': 'Six',\n",
    "        '7': 'Seven',\n",
    "        '8': 'Eight',\n",
    "        '9': 'Nine'\n",
    "    }\n",
    "    return words.get(digit, \"\")\n",
    "\n",
    "def number_to_words_by_digit(number):\n",
    "    \"\"\"Convert each digit of a number to words.\"\"\"\n",
    "    # Convert number to string to process each digit\n",
    "    num_str = str(number)\n",
    "    \n",
    "    # Convert each digit to word\n",
    "    result = []\n",
    "    for digit in num_str:\n",
    "        result.append(digit_to_word(digit))\n",
    "    \n",
    "    # Join the words with spaces\n",
    "    return \" \".join(result)\n",
    "\n",
    "# Get input from user\n",
    "try:\n",
    "    number = int(input(\"Enter a number: \"))\n",
    "    if number < 0:\n",
    "        print(\"Negative\", number_to_words_by_digit(abs(number)))\n",
    "    else:\n",
    "        print(number_to_words_by_digit(number))\n",
    "except ValueError:\n",
    "    print(\"Please enter a valid integer\")"
   ]
  },
  {
   "cell_type": "code",
   "execution_count": 74,
   "id": "47258a07-e200-4dfa-a3c5-4460f9d6263e",
   "metadata": {},
   "outputs": [
    {
     "name": "stdin",
     "output_type": "stream",
     "text": [
      "Enter a number:  -87423\n"
     ]
    },
    {
     "name": "stdout",
     "output_type": "stream",
     "text": [
      "Eight Seven Four Two three "
     ]
    }
   ],
   "source": [
    "# Get input from the user\n",
    "number = int(input(\"Enter a number: \"))\n",
    "num1=str(abs(number))\n",
    "\n",
    "# Reverse the number using string slicing\n",
    "reversed_number = num1[::-1]\n",
    "num = int(reversed_number)\n",
    "\n",
    "while num > 0:\n",
    "    digit = num % 10  # Get the last digit\n",
    "    word=digit \n",
    "    if word==0:\n",
    "        print(\"Zero\",end=\" \")\n",
    "    elif word==1:\n",
    "        print(\"One\",end=\" \")\n",
    "    elif word==2:\n",
    "        print(\"Two\",end=\" \")\n",
    "    elif word==3:\n",
    "        print(\"three\",end=\" \")\n",
    "    elif word==4:\n",
    "        print(\"Four\",end=\" \")\n",
    "    elif word==5:\n",
    "        print(\"Five\",end=\" \")\n",
    "    elif word==6:\n",
    "        print(\"Six\",end=\" \")\n",
    "    elif word==7:\n",
    "        print(\"Seven\",end=\" \")\n",
    "    elif word==8:\n",
    "        print(\"Eight\",end=\" \")\n",
    "    elif word==9:\n",
    "        print(\"Nine\",end=\" \")\n",
    "\n",
    "    else:\n",
    "        print(\"Plz enter valid number.\")\n",
    "    \n",
    "    num //= 10  \n"
   ]
  },
  {
   "cell_type": "markdown",
   "id": "2c7b4e54-e775-4483-8279-c1bdec6493d7",
   "metadata": {},
   "source": [
    "# QUS 20- Write a PYTHON program to print all ASCII character with their values."
   ]
  },
  {
   "cell_type": "code",
   "execution_count": 1,
   "id": "b66ff0dc-c815-4af3-8c4d-fff1367463e4",
   "metadata": {},
   "outputs": [
    {
     "name": "stdout",
     "output_type": "stream",
     "text": [
      "ASCII value: 0, Character: \u0000\n",
      "ASCII value: 1, Character: \u0001\n",
      "ASCII value: 2, Character: \u0002\n",
      "ASCII value: 3, Character: \u0003\n",
      "ASCII value: 4, Character: \u0004\n",
      "ASCII value: 5, Character: \u0005\n",
      "ASCII value: 6, Character: \u0006\n",
      "ASCII value: 7, Character: \u0007\n",
      "ASCII value: 8, Character:\n",
      "ASCII value: 9, Character: \t\n",
      "ASCII value: 10, Character: \n",
      "\n",
      "ASCII value: 11, Character: \u000b",
      "\n",
      "ASCII value: 12, Character: \f",
      "\n",
      "ASCII value: 13, Character: \n",
      "ASCII value: 14, Character: \u000e\n",
      "ASCII value: 15, Character: \u000f\n",
      "ASCII value: 16, Character: \u0010\n",
      "ASCII value: 17, Character: \u0011\n",
      "ASCII value: 18, Character: \u0012\n",
      "ASCII value: 19, Character: \u0013\n",
      "ASCII value: 20, Character: \u0014\n",
      "ASCII value: 21, Character: \u0015\n",
      "ASCII value: 22, Character: \u0016\n",
      "ASCII value: 23, Character: \u0017\n",
      "ASCII value: 24, Character: \u0018\n",
      "ASCII value: 25, Character: \u0019\n",
      "ASCII value: 26, Character: \u001a\n",
      "ASCII value: 27, Character: \u001b\n",
      "ASCII value: 28, Character: \u001c",
      "\n",
      "ASCII value: 29, Character: \u001d",
      "\n",
      "ASCII value: 30, Character: \u001e",
      "\n",
      "ASCII value: 31, Character: \u001f\n",
      "ASCII value: 32, Character:  \n",
      "ASCII value: 33, Character: !\n",
      "ASCII value: 34, Character: \"\n",
      "ASCII value: 35, Character: #\n",
      "ASCII value: 36, Character: $\n",
      "ASCII value: 37, Character: %\n",
      "ASCII value: 38, Character: &\n",
      "ASCII value: 39, Character: '\n",
      "ASCII value: 40, Character: (\n",
      "ASCII value: 41, Character: )\n",
      "ASCII value: 42, Character: *\n",
      "ASCII value: 43, Character: +\n",
      "ASCII value: 44, Character: ,\n",
      "ASCII value: 45, Character: -\n",
      "ASCII value: 46, Character: .\n",
      "ASCII value: 47, Character: /\n",
      "ASCII value: 48, Character: 0\n",
      "ASCII value: 49, Character: 1\n",
      "ASCII value: 50, Character: 2\n",
      "ASCII value: 51, Character: 3\n",
      "ASCII value: 52, Character: 4\n",
      "ASCII value: 53, Character: 5\n",
      "ASCII value: 54, Character: 6\n",
      "ASCII value: 55, Character: 7\n",
      "ASCII value: 56, Character: 8\n",
      "ASCII value: 57, Character: 9\n",
      "ASCII value: 58, Character: :\n",
      "ASCII value: 59, Character: ;\n",
      "ASCII value: 60, Character: <\n",
      "ASCII value: 61, Character: =\n",
      "ASCII value: 62, Character: >\n",
      "ASCII value: 63, Character: ?\n",
      "ASCII value: 64, Character: @\n",
      "ASCII value: 65, Character: A\n",
      "ASCII value: 66, Character: B\n",
      "ASCII value: 67, Character: C\n",
      "ASCII value: 68, Character: D\n",
      "ASCII value: 69, Character: E\n",
      "ASCII value: 70, Character: F\n",
      "ASCII value: 71, Character: G\n",
      "ASCII value: 72, Character: H\n",
      "ASCII value: 73, Character: I\n",
      "ASCII value: 74, Character: J\n",
      "ASCII value: 75, Character: K\n",
      "ASCII value: 76, Character: L\n",
      "ASCII value: 77, Character: M\n",
      "ASCII value: 78, Character: N\n",
      "ASCII value: 79, Character: O\n",
      "ASCII value: 80, Character: P\n",
      "ASCII value: 81, Character: Q\n",
      "ASCII value: 82, Character: R\n",
      "ASCII value: 83, Character: S\n",
      "ASCII value: 84, Character: T\n",
      "ASCII value: 85, Character: U\n",
      "ASCII value: 86, Character: V\n",
      "ASCII value: 87, Character: W\n",
      "ASCII value: 88, Character: X\n",
      "ASCII value: 89, Character: Y\n",
      "ASCII value: 90, Character: Z\n",
      "ASCII value: 91, Character: [\n",
      "ASCII value: 92, Character: \\\n",
      "ASCII value: 93, Character: ]\n",
      "ASCII value: 94, Character: ^\n",
      "ASCII value: 95, Character: _\n",
      "ASCII value: 96, Character: `\n",
      "ASCII value: 97, Character: a\n",
      "ASCII value: 98, Character: b\n",
      "ASCII value: 99, Character: c\n",
      "ASCII value: 100, Character: d\n",
      "ASCII value: 101, Character: e\n",
      "ASCII value: 102, Character: f\n",
      "ASCII value: 103, Character: g\n",
      "ASCII value: 104, Character: h\n",
      "ASCII value: 105, Character: i\n",
      "ASCII value: 106, Character: j\n",
      "ASCII value: 107, Character: k\n",
      "ASCII value: 108, Character: l\n",
      "ASCII value: 109, Character: m\n",
      "ASCII value: 110, Character: n\n",
      "ASCII value: 111, Character: o\n",
      "ASCII value: 112, Character: p\n",
      "ASCII value: 113, Character: q\n",
      "ASCII value: 114, Character: r\n",
      "ASCII value: 115, Character: s\n",
      "ASCII value: 116, Character: t\n",
      "ASCII value: 117, Character: u\n",
      "ASCII value: 118, Character: v\n",
      "ASCII value: 119, Character: w\n",
      "ASCII value: 120, Character: x\n",
      "ASCII value: 121, Character: y\n",
      "ASCII value: 122, Character: z\n",
      "ASCII value: 123, Character: {\n",
      "ASCII value: 124, Character: |\n",
      "ASCII value: 125, Character: }\n",
      "ASCII value: 126, Character: ~\n",
      "ASCII value: 127, Character: \n"
     ]
    }
   ],
   "source": [
    "# Write a PYTHON program to print all ASCII character with their values.\n",
    "\n",
    "# Iterate through ASCII values from 0 to 127 (standard ASCII range)\n",
    "for value in range(128):\n",
    "  character = chr(value)  # Convert the ASCII value to a character\n",
    "  print(f\"ASCII value: {value}, Character: {character}\")"
   ]
  },
  {
   "cell_type": "markdown",
   "id": "7a6c6a1c-b10f-4b96-9178-54ce29c0fce0",
   "metadata": {},
   "source": [
    "# QUS 21-Write a Python program to find power of a number using for loop"
   ]
  },
  {
   "cell_type": "code",
   "execution_count": 26,
   "id": "c415a65d-79b8-4deb-a9cf-861d081da80b",
   "metadata": {},
   "outputs": [
    {
     "name": "stdin",
     "output_type": "stream",
     "text": [
      "Input base:  2\n",
      "Input Exponent:  5\n"
     ]
    },
    {
     "name": "stdout",
     "output_type": "stream",
     "text": [
      "2^5=32\n"
     ]
    }
   ],
   "source": [
    "x=int(input(\"Input base: \"))\n",
    "y=int(input(\"Input Exponent: \"))\n",
    "pow_of_num=1\n",
    "for i in range (1,y+1,1):\n",
    "    pow_of_num=pow_of_num*x\n",
    "    \n",
    "print(f\"{x}^{y}={pow_of_num}\")"
   ]
  },
  {
   "cell_type": "markdown",
   "id": "3572c9f3-e049-4dc0-8c9c-c9db074bafc8",
   "metadata": {},
   "source": [
    "# QUS 22-Write a Python program to find all factors of a number."
   ]
  },
  {
   "cell_type": "code",
   "execution_count": 64,
   "id": "aa2c7b4d-3ea8-4cd8-aba3-407d584d9597",
   "metadata": {},
   "outputs": [
    {
     "name": "stdin",
     "output_type": "stream",
     "text": [
      "Input Number:  48\n"
     ]
    },
    {
     "name": "stdout",
     "output_type": "stream",
     "text": [
      "factor of 48: 1,2,3,4,6,8,12,16,24,48"
     ]
    }
   ],
   "source": [
    "x=int(input(\"Input Number: \"))\n",
    "print(f'factor of {x}: ',end=\"\")\n",
    "for i in range(1,x+1,1):\n",
    "    if x%i==0:\n",
    "        print(i,end=\"\")\n",
    "        if i<x:\n",
    "            print(\"\",end=\",\")\n"
   ]
  },
  {
   "cell_type": "markdown",
   "id": "8565e07d-5371-4db6-b113-24412d5146ee",
   "metadata": {},
   "source": [
    "# QUS 23-Write a Python program to calculate factorial of a number."
   ]
  },
  {
   "cell_type": "code",
   "execution_count": 90,
   "id": "5a990c70-d042-491e-8cef-3faea0215972",
   "metadata": {},
   "outputs": [
    {
     "name": "stdin",
     "output_type": "stream",
     "text": [
      "Input Number:  1\n"
     ]
    },
    {
     "name": "stdout",
     "output_type": "stream",
     "text": [
      "factorial=1\n"
     ]
    }
   ],
   "source": [
    "# Using for loop\n",
    "x=int(input(\"Input Number: \"))\n",
    "fact=1\n",
    "for i in range (1,x+1,1):\n",
    "    fact=fact*i\n",
    "    \n",
    "print(f\"factorial={fact}\")"
   ]
  },
  {
   "cell_type": "code",
   "execution_count": 104,
   "id": "e88a86d1-c66f-4455-8778-1013cd3fbe52",
   "metadata": {},
   "outputs": [
    {
     "name": "stdin",
     "output_type": "stream",
     "text": [
      "Input Number:  6\n"
     ]
    },
    {
     "name": "stdout",
     "output_type": "stream",
     "text": [
      "Factorial:720\n"
     ]
    }
   ],
   "source": [
    "#using while loop\n",
    "x=int(input(\"Input Number:\"))\n",
    "fact=1\n",
    "factorial=1\n",
    "while fact<=x:\n",
    "    factorial=factorial*fact\n",
    "    fact +=1\n",
    "print(f'Factorial:{factorial}')"
   ]
  },
  {
   "cell_type": "markdown",
   "id": "1dbafdbb-2531-4852-8161-2028ae708b28",
   "metadata": {},
   "source": [
    "# QUS 24-Write a Python program to find HCF (GCD) of two numbers."
   ]
  },
  {
   "cell_type": "code",
   "execution_count": 145,
   "id": "a9a49bef-63bd-4f84-9b25-29ead39fb0af",
   "metadata": {},
   "outputs": [
    {
     "name": "stdin",
     "output_type": "stream",
     "text": [
      "Input Number:  12\n",
      "Input Number:  30\n"
     ]
    },
    {
     "name": "stdout",
     "output_type": "stream",
     "text": [
      "The GCD of 12 and 30 is: 6\n"
     ]
    }
   ],
   "source": [
    "# Find GCD using Euclidean algorithm\n",
    "x = int(input(\"Input Number: \"))\n",
    "y = int(input(\"Input Number: \"))\n",
    "def find_gcd(a, b):\n",
    "    while b:\n",
    "        a, b = b, a % b\n",
    "    return a\n",
    "\n",
    "gcd = find_gcd(x, y)\n",
    "\n",
    "print(f\"The GCD of {x} and {y} is: {gcd}\")"
   ]
  },
  {
   "cell_type": "markdown",
   "id": "cc1fb492-3536-47aa-bfcb-7e2104cf6cdd",
   "metadata": {},
   "source": [
    "# QUS 25-Write a python program to find LCM of two numbers."
   ]
  },
  {
   "cell_type": "code",
   "execution_count": 13,
   "id": "1bf320a3-ef22-4878-bc9d-7622dee48980",
   "metadata": {},
   "outputs": [
    {
     "name": "stdin",
     "output_type": "stream",
     "text": [
      "Input 1st Number:  34\n",
      "Input 2nd number:  43\n"
     ]
    },
    {
     "name": "stdout",
     "output_type": "stream",
     "text": [
      "LCM: 1462\n"
     ]
    }
   ],
   "source": [
    "def find_lcm(a, b):\n",
    "    # LCM = (a * b) / GCD(a, b)\n",
    "    return (a * b) // find_gcd(a, b)\n",
    "\n",
    "x = int(input(\"Input 1st Number: \"))\n",
    "y = int(input(\"Input 2nd number: \"))\n",
    "\n",
    "lcm = find_lcm(x, y)\n",
    "\n",
    "print(f\"LCM: {lcm}\")"
   ]
  },
  {
   "cell_type": "markdown",
   "id": "01d510c0-82fd-47c9-b399-15242a5156ce",
   "metadata": {},
   "source": [
    "\n",
    "## কোডের ব্যাখ্যা:\n",
    "\n",
    "1. `find_gcd(a, b)` ফাংশনটি আগের মতোই ইউক্লিডিয়ান অ্যালগরিদম ব্যবহার করে GCD নির্ণয় করে।\n",
    "\n",
    "2. `find_lcm(a, b)` ফাংশনটি দুটি সংখ্যার LCM নির্ণয় করে:\n",
    "   - এটি সূত্র LCM(a, b) = (a * b) / GCD(a, b) ব্যবহার করে\n",
    "   - `//` অপারেটর ব্যবহার করা হয়েছে যাতে ফলাফল পূর্ণসংখ্যা হয় (কারণ LCM সবসময় একটি পূর্ণসংখ্যা)\n",
    "\n",
    "3. ব্যবহারকারীর কাছ থেকে দুটি সংখ্যা ইনপুট নেওয়া হয়।\n",
    "\n",
    "4. `find_lcm` এবং `find_gcd` ফাংশন কল করে যথাক্রমে LCM এবং GCD নির্ণয় করা হয়।\n",
    "\n",
    "5. সবশেষে, ফলাফল প্রিন্ট করা হয়।\n",
    "\n",
    "এই কোডটি দুটি সংখ্যার মধ্যে GCD এবং LCM উভয়ই নির্ণয় করে, যা সংখ্যাতত্ত্বের বিভিন্ন সমস্যা সমাধানে উপযোগী।"
   ]
  },
  {
   "cell_type": "markdown",
   "id": "39a3f6e2-d8d8-4bd4-af33-8852f9cd71e8",
   "metadata": {},
   "source": [
    "# QUS 26-Write a Python program to check whether a number is Prime number or not."
   ]
  },
  {
   "cell_type": "code",
   "execution_count": 48,
   "id": "f0a82107-6cda-49ca-88f0-92a799c51d19",
   "metadata": {},
   "outputs": [
    {
     "name": "stdin",
     "output_type": "stream",
     "text": [
      "Input number: 43\n"
     ]
    },
    {
     "name": "stdout",
     "output_type": "stream",
     "text": [
      "43 is a prime number\n"
     ]
    }
   ],
   "source": [
    "# Using for loop\n",
    "num = int(input(\"Input number:\"))\n",
    "is_prime = 1  # Flag to track if number is prime\n",
    "\n",
    "for i in range(2, num):  # No need for step size 1 as it's the default\n",
    "    if num % i == 0:\n",
    "        print(f'{num} is not a prime number')\n",
    "        is_prime = 0\n",
    "        break  # Exit loop once we find a divisor\n",
    "\n",
    "if is_prime and num > 1:  # 1 is not a prime number\n",
    "    print(f'{num} is a prime number')"
   ]
  },
  {
   "cell_type": "markdown",
   "id": "4e0ca6af-6530-47c3-a40b-9d5f3948b84a",
   "metadata": {},
   "source": [
    "# QUS 27- Write a Python program to print all Prime numbers between 1 to n."
   ]
  },
  {
   "cell_type": "code",
   "execution_count": null,
   "id": "0cca76a3-a3d6-4fa4-8df6-056db22788f5",
   "metadata": {},
   "outputs": [],
   "source": [
    "# Python program to print all prime numbers between 1 and n using only loops\n",
    "\n",
    "# Get input from user\n",
    "n = int(input(\"Enter the upper limit n: \"))\n",
    "\n",
    "print(f\"Prime numbers between 1 and {n} are:\")\n",
    "\n",
    "# Check each number from 2 to n\n",
    "for num in range(2, n+1):\n",
    "    is_prime = True  # Assume number is prime initially\n",
    "    \n",
    "    # Check if num is divisible by any number from 2 to num-1\n",
    "    for i in range(2, num):\n",
    "        if num % i == 0:\n",
    "            is_prime = False  # Not a prime number\n",
    "            break\n",
    "    \n",
    "    # If is_prime is still True, print the number\n",
    "    if is_prime:\n",
    "        print(num, end=\" \")"
   ]
  },
  {
   "cell_type": "markdown",
   "id": "5c10e9e1-2295-4d40-aa0b-23bdd577b01b",
   "metadata": {},
   "source": [
    "# QUS 28-Write a Python program to find sum of all prime numbers between 1 to n."
   ]
  },
  {
   "cell_type": "code",
   "execution_count": 16,
   "id": "318a61d7-2af3-4b79-89e6-9b7b1b6f6536",
   "metadata": {},
   "outputs": [
    {
     "name": "stdin",
     "output_type": "stream",
     "text": [
      "Enter the upper limit n:  10\n"
     ]
    },
    {
     "name": "stdout",
     "output_type": "stream",
     "text": [
      "Prime numbers between 1 and 10 are:\n",
      "2 3 5 7 \n",
      "\n",
      "sum of the prime number is: 17\n"
     ]
    }
   ],
   "source": [
    "# Python program to print all prime numbers between 1 and n using only loops\n",
    "\n",
    "# Get input from user\n",
    "n = int(input(\"Enter the upper limit n: \"))\n",
    "summ=0\n",
    "\n",
    "print(f\"Prime numbers between 1 and {n} are:\")\n",
    "\n",
    "# Check each number from 2 to n\n",
    "for num in range(2, n+1):\n",
    "    is_prime = True  # Assume number is prime initially\n",
    "    \n",
    "    # Check if num is divisible by any number from 2 to num-1\n",
    "    for i in range(2, num):\n",
    "        if num % i == 0:\n",
    "            is_prime = False  # Not a prime number\n",
    "            break\n",
    "    \n",
    "    # If is_prime is still True, print the number\n",
    "    if is_prime:\n",
    "        summ=summ+num\n",
    "        print(num, end=\" \")\n",
    "print(\"\\n\")\n",
    "print(\"sum of the prime number is:\",summ)\n"
   ]
  },
  {
   "cell_type": "code",
   "execution_count": null,
   "id": "1d460d11-03de-4a94-9b0f-33a923de84eb",
   "metadata": {},
   "outputs": [],
   "source": []
  }
 ],
 "metadata": {
  "kernelspec": {
   "display_name": "Python 3 (ipykernel)",
   "language": "python",
   "name": "python3"
  },
  "language_info": {
   "codemirror_mode": {
    "name": "ipython",
    "version": 3
   },
   "file_extension": ".py",
   "mimetype": "text/x-python",
   "name": "python",
   "nbconvert_exporter": "python",
   "pygments_lexer": "ipython3",
   "version": "3.12.7"
  }
 },
 "nbformat": 4,
 "nbformat_minor": 5
}
